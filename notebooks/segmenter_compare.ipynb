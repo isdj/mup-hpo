{
 "cells": [
  {
   "cell_type": "code",
   "execution_count": null,
   "id": "46c71636",
   "metadata": {
    "pycharm": {
     "name": "#%%\n"
    }
   },
   "outputs": [],
   "source": [
    "%reload_ext autoreload\n",
    "%autoreload 2\n",
    "import numpy as np\n",
    "import matplotlib.pyplot as plt\n",
    "import torch\n",
    "import re\n",
    "from syne_tune.tuner import Tuner\n",
    "from syne_tune.stopping_criterion import StoppingCriterion\n",
    "from syne_tune.backend.local_backend import LocalBackend\n",
    "from syne_tune.search_space import randint\n",
    "from syne_tune.optimizer.baselines import ASHA\n",
    "from syne_tune.experiments import load_experiment\n",
    "import collections"
   ]
  },
  {
   "cell_type": "code",
   "execution_count": null,
   "id": "1ca417ee",
   "metadata": {
    "pycharm": {
     "name": "#%%\n"
    }
   },
   "outputs": [],
   "source": [
    "names = \"\"\"segmenter-width-1152-mup-2022-11-15-10-45-43-091/\n",
    "segmenter-width-1152-no-mup-2022-11-18-13-25-51-829/\n",
    "segmenter-width-1152-no-mup-2022-11-19-15-47-36-404/\n",
    "segmenter-width-192-mup-2022-11-14-09-50-43-253/\n",
    "segmenter-width-192-no-mup-2022-11-17-08-25-44-610/\n",
    "segmenter-width-384-mup-2022-11-14-13-26-04-992/\n",
    "segmenter-width-384-no-mup-2022-11-17-12-49-05-446/\n",
    "segmenter-width-576-mup-2022-11-14-16-27-15-080/\n",
    "segmenter-width-576-no-mup-2022-11-17-16-44-49-796/\n",
    "segmenter-width-768-mup-2022-11-14-22-16-52-841/\n",
    "segmenter-width-768-no-mup-2022-11-17-22-23-02-437/\n",
    "segmenter-width-960-mup-2022-11-15-04-45-53-537/\n",
    "segmenter-width-960-no-mup-2022-11-18-04-39-46-308/\n",
    "\"\"\".split()\n",
    "names = [n[:-1] for n in names]\n",
    "mup = {int(name.split('-')[3]): name for name in names if re.search(r'\\d\\-mup', name)}\n",
    "no_mup = {int(name.split('-')[3]): name for name in names if re.search(r'\\d-no-mup', name)}\n",
    "mup = collections.OrderedDict(sorted(mup.items(),key=lambda x: x[0]))\n",
    "no_mup = collections.OrderedDict(sorted(no_mup.items(),key=lambda x: x[0]))\n"
   ]
  },
  {
   "cell_type": "code",
   "execution_count": null,
   "id": "938762bf",
   "metadata": {
    "pycharm": {
     "name": "#%%\n"
    },
    "scrolled": true
   },
   "outputs": [],
   "source": [
    "plt.title('mup')\n",
    "for width, name in mup.items():\n",
    "    try:\n",
    "        ex = load_experiment(name)\n",
    "        res = ex.results\n",
    "        best = res.groupby('config_lr').apply(lambda x: np.min(x.loss))\n",
    "        plt.plot(best.index, best.values, label=f'{width}')\n",
    "    except Exception as e:\n",
    "        print(f'{width}: failure')\n",
    "plt.legend()\n",
    "plt.xscale('log')\n",
    "plt.show()\n",
    "\n",
    "plt.title('no mup')\n",
    "for width, name in no_mup.items():\n",
    "    try:\n",
    "        ex = load_experiment(name)\n",
    "        res = ex.results\n",
    "        best = res.groupby('config_lr').apply(lambda x: np.min(x.loss))\n",
    "        plt.plot(best.index, best.values, label=f'{width}')\n",
    "    except Exception as e:\n",
    "        print(f'{width}: failure, {e}')\n",
    "plt.legend()\n",
    "plt.xscale('log')\n",
    "plt.show()"
   ]
  },
  {
   "cell_type": "markdown",
   "metadata": {
    "collapsed": false,
    "pycharm": {
     "name": "#%% md\n"
    }
   },
   "source": [
    "## Results"
   ]
  },
  {
   "cell_type": "markdown",
   "source": [
    "![title](./segmenter_mup.png)"
   ],
   "metadata": {
    "collapsed": false,
    "pycharm": {
     "name": "#%% md\n"
    }
   }
  },
  {
   "cell_type": "markdown",
   "metadata": {
    "collapsed": false,
    "pycharm": {
     "name": "#%% md\n"
    }
   },
   "source": [
    "![title](./segmenter_no_mup.png)"
   ]
  }
 ],
 "metadata": {
  "kernelspec": {
   "display_name": "Python 3 (ipykernel)",
   "language": "python",
   "name": "python3"
  },
  "language_info": {
   "codemirror_mode": {
    "name": "ipython",
    "version": 3
   },
   "file_extension": ".py",
   "mimetype": "text/x-python",
   "name": "python",
   "nbconvert_exporter": "python",
   "pygments_lexer": "ipython3",
   "version": "3.7.13"
  }
 },
 "nbformat": 4,
 "nbformat_minor": 5
}